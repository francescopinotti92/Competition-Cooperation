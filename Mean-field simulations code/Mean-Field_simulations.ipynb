{
 "cells": [
  {
   "cell_type": "code",
   "execution_count": 18,
   "metadata": {
    "collapsed": true
   },
   "outputs": [],
   "source": [
    "import numpy as np\n",
    "from numpy import linalg as LA\n",
    "import matplotlib.pyplot as plt\n",
    "import scipy.integrate as spi\n",
    "import matplotlib\n",
    "%matplotlib inline"
   ]
  },
  {
   "cell_type": "markdown",
   "metadata": {},
   "source": [
    "## Single-patch simulations"
   ]
  },
  {
   "cell_type": "code",
   "execution_count": 4,
   "metadata": {
    "collapsed": true
   },
   "outputs": [],
   "source": [
    "# MODEL EQUATIONS (for numerical integration)\n",
    "# INPUTS:\n",
    "# y: array with initial conditions for S,B1,B2,AB1,AB2\n",
    "# t: array with times at which evaluating the system\n",
    "# alfa: infection rate of strain A\n",
    "# beta: infection rate of B1\n",
    "# delta: difference in infection rate between B2 and B1\n",
    "# C: cooperative factor B1\n",
    "# gamma: difference in cooperative factor between B2 and B1\n",
    "# OUTPUT:\n",
    "# array containing the values of S,B1,B2,AB1,AB2\n",
    "# N.B. :\n",
    "# A can be obtained by requiring S + B1 + B2 + A + AB1 + AB2 = 1\n",
    "def SIS(y,t,alfa,beta,delta,C,gamma): \n",
    "    S,B1,B2,AB1,AB2 = y\n",
    "    A = 1-S-B1-B2-AB1-AB2\n",
    "    X1 = B1+AB1\n",
    "    X2 = B2+AB2\n",
    "    XA = A+AB1+AB2\n",
    "    # equations\n",
    "    f0 = -S*(alfa*XA+beta*X1+(beta+delta)*X2) + A + B1 + B2  #S\n",
    "    f1 = AB1-B1-C*alfa*B1*XA+beta*S*X1 #B1\n",
    "    f2 = AB2-B2-(C+gamma)*alfa*B2*XA+(beta+delta)*S*X2 #B2\n",
    "    f3 = -2*AB1+C*alfa*B1*XA+C*beta*A*X1 #AB1\n",
    "    f4 = -2*AB2+(C+gamma)*alfa*B2*XA+(C+gamma)*(beta+delta)*A*X2 #AB2\n",
    "    return [f0,f1,f2,f3,f4]"
   ]
  },
  {
   "cell_type": "markdown",
   "metadata": {},
   "source": [
    "Integrate equations defined in ```SIS``` function and plot prevalence for all pathogens "
   ]
  },
  {
   "cell_type": "code",
   "execution_count": 9,
   "metadata": {},
   "outputs": [
    {
     "data": {
      "image/png": "[encoded data removed]",
      "text/plain": [
       "<Figure size 432x288 with 1 Axes>"
      ]
     },
     "metadata": {},
     "output_type": "display_data"
    }
   ],
   "source": [
    "# model parameters\n",
    "b1_test = 1.47\n",
    "b2_test = 1.5\n",
    "alfa_test = 0.6\n",
    "C1_test = 4\n",
    "C2_test = 2.5\n",
    "\n",
    "# integrate dynamics\n",
    "y0 = [0.997,0.001,0.001,0,0] #initial condition for S,B1,B2,AB1,AB2\n",
    "t = np.linspace(0,1000,20000)\n",
    "soln = spi.odeint(SIS, y0, t, args=(alfa_test, b1_test, b2_test-b1_test, C1_test, C2_test-C1_test))\n",
    "\n",
    "X1 = np.array(soln[:,1]) + np.array(soln[:,3])  # get time series for B1's prevalence\n",
    "X2 = np.array(soln[:,2]) + np.array(soln[:,4])  # get time series for B2's prevalence\n",
    "XA = 1-np.array(soln[:,0])-np.array(soln[:,1])-np.array(soln[:,2]) # get time series for A's prevalence\n",
    "\n",
    "# plot results\n",
    "d_col = {'AB1':'#b2182b', 'AB2': '#2166ac', 'B2': '#92c5de'}\n",
    "\n",
    "plt.plot(t,X1,color=d_col['AB1'],label=r'$X_{B_1}$', lw=5)\n",
    "plt.plot(t,X2,color=d_col['AB2'],label=r'$X_{B_2}$', lw=5)\n",
    "plt.plot(t,XA,color='#BDBDBD',label=r'$X_A$', lw=5)\n",
    "\n",
    "plt.xscale('log')\n",
    "plt.xlabel('Time',fontsize=16)\n",
    "plt.ylabel('Prevalence',fontsize=16)\n",
    "\n",
    "plt.legend(framealpha=False, fontsize=17)\n",
    "plt.tick_params(axis='both', which='major', labelsize=16)"
   ]
  },
  {
   "cell_type": "code",
   "execution_count": 17,
   "metadata": {
    "collapsed": true
   },
   "outputs": [],
   "source": [
    "#FULL JACOBIAN\n",
    "#compute the jacobian for the previous system of equations\n",
    "#INPUTS:\n",
    "#y: steady state value\n",
    "# alfa: infection rate of strain A\n",
    "# beta: infection rate of B1\n",
    "# delta: difference in infection rate between B2 and B1\n",
    "# C: cooperative factor B1\n",
    "# gamma: difference in cooperative factor between B2 and B1\n",
    "#OUTPUT:\n",
    "#5x5 jacobian computed for the desired stationary state\n",
    "\n",
    "def Jacobian(y,alfa,beta,delta,C,gamma):\n",
    "    # beta2 = beta1 + delta\n",
    "    # C2 = C1 + gamma\n",
    "    S,B1,B2,AB1,AB2 = y\n",
    "    A = 1-S-B1-B2-AB1-AB2\n",
    "    X1 = B1+AB1\n",
    "    X2 = B2+AB2\n",
    "    XA = A+AB1+AB2\n",
    "    return np.array([[alfa*(S-XA)-1-beta*X1-(beta+delta)*X2,S*(alfa-beta),S*(alfa-beta-delta),-1-beta*S,-1-(beta+delta)*S],[C*alfa*B1+beta*X1,-1+C*alfa*(B1-XA)+beta*S,C*alfa*B1,1+beta*S,0],[(C+gamma)*alfa*B2+(beta+delta)*X2,(C+gamma)*alfa*B2,-1+alfa*(C+gamma)*(B2-XA)+(beta+delta)*S,0,1+(beta+delta)*S],[-C*(alfa*B1+beta*X1),C*beta*(1-S-2*X1-X2)+C*alfa*(XA-B1),-C*(alfa*B1+beta*X1),-2+C*beta*(1-S-2*X1-X2),-C*beta*X1],[-(C+gamma)*(alfa*B2+(beta+delta)*X2),-(C+gamma)*(alfa*B2+(beta+delta)*X2),(C+gamma)*(beta+delta)*(1-S-X1-2*X2)+(C+gamma)*alfa*(XA-B2),-(C+gamma)*(beta+delta)*X2,-2+(C+gamma)*(beta+delta)*(1-S-X1-2*X2)]])\n",
    "\n",
    "#INVESTIGATE STABILITY\n",
    "#The following functions take model's parameters as inputs and evaluate the Jacobian\n",
    "#for a specific stationary state.\n",
    "#OUTPUT:\n",
    "#list with two elements: \n",
    "#the first element takes value 1 if the state is stable and 0 otherwise (unstable, or not feasible or does not exist)\n",
    "#the second element is the leading Jacobian's eigenvalue if the state exists and is feasible (othrwise it's a NaN)\n",
    "\n",
    "# [B1] state\n",
    "def investigate_stability_B1(alfa,beta,delta,C1,gamma):\n",
    "    if beta >= 1:\n",
    "        SS = [1/beta,1-1/beta,0,0,0]\n",
    "        ll = np.amax(LA.eig(Jacobian(SS,alfa,beta,delta,C1,gamma))[0])\n",
    "        if ll < 0:\n",
    "            return([1, ll])\n",
    "        else:\n",
    "            return([0,ll])\n",
    "    else:\n",
    "        return([0, np.nan])\n",
    "\n",
    "# [B2] state\n",
    "def investigate_stability_B2(alfa,beta,delta,C1,gamma):\n",
    "    beta2 = beta + delta\n",
    "    if beta2 >= 1:\n",
    "        SS = [1/(beta2),0,1-1/(beta2),0,0]\n",
    "        ll = np.amax(LA.eig(Jacobian(SS,alfa,beta,delta,C1,gamma))[0])\n",
    "        if ll < 0:\n",
    "            return([1, ll])\n",
    "        else:\n",
    "            return([0,ll])\n",
    "    else:\n",
    "        return([0, np.nan])\n",
    "\n",
    "# [A&B1] state\n",
    "def investigate_stability_AB1(alfa,beta,delta,C1,gamma):\n",
    "    if beta >= 4*(1-1/C1)/(C1*alfa) and C1 > 1:\n",
    "        S_steady = (1-np.sqrt(1-4*(1-1/C1)/(C1*alfa*beta)))/(2*(1-1/C1))\n",
    "        B_steady = (1-alfa*S_steady)/(C1*alfa)\n",
    "        A_steady = (1-beta*S_steady)/(C1*beta)\n",
    "        Y_steady = 1 - S_steady - A_steady - B_steady\n",
    "        tmp = [S_steady, B_steady, A_steady, Y_steady]\n",
    "        if (np.amin(tmp) > 0 and np.amax(tmp) < 1):\n",
    "            SS = [S_steady, B_steady, 0, Y_steady, 0]\n",
    "            ll = np.amax(LA.eig(Jacobian(SS,alfa,beta,delta,C1,gamma))[0])\n",
    "            if ll < 0:\n",
    "                return([1, ll])\n",
    "            else:\n",
    "                return([0, ll])\n",
    "        else:\n",
    "            return([0, np.nan])\n",
    "    else:\n",
    "        return([0, np.nan])\n",
    "\n",
    "# [A&B2] state\n",
    "def investigate_stability_AB2(alfa,beta,delta,C1,gamma):\n",
    "    beta2 = beta + delta\n",
    "    C2 = C1 + gamma\n",
    "    if beta2 >= 4*(1-1/C2)/(C2*alfa) and C2 > 1:\n",
    "        S_steady = (1-np.sqrt(1-4*(1-1/C2)/(C2*alfa*beta2)))/(2*(1-1/C2))\n",
    "        B_steady = (1-alfa*S_steady)/(C2*alfa)\n",
    "        A_steady = (1-beta2*S_steady)/(C2*beta2)\n",
    "        Y_steady = 1 - S_steady - A_steady - B_steady\n",
    "        tmp = [S_steady, B_steady, A_steady, Y_steady]\n",
    "        if (np.amin(tmp) > 0 and np.amax(tmp) < 1):\n",
    "            SS = [S_steady, 0, B_steady, 0, Y_steady]\n",
    "            ll = np.amax(LA.eig(Jacobian(SS,alfa,beta,delta,C1,gamma))[0])\n",
    "            if ll < 0:\n",
    "                return([1, ll])\n",
    "            else:\n",
    "                return([0, ll])\n",
    "        else:\n",
    "            return([0, np.nan])\n",
    "    else:\n",
    "        return([0, np.nan])"
   ]
  },
  {
   "cell_type": "markdown",
   "metadata": {},
   "source": [
    "Investigate linear stability for a given set of parameters"
   ]
  },
  {
   "cell_type": "code",
   "execution_count": 16,
   "metadata": {},
   "outputs": [
    {
     "name": "stdout",
     "output_type": "stream",
     "text": [
      "Is [B1] state stable? False\n",
      "Is [B2] state stable? True\n",
      "Is [A&B1] state stable? True\n",
      "Is [A&B2] state stable? False\n"
     ]
    }
   ],
   "source": [
    "b1_test = 1.47\n",
    "b2_test = 1.5\n",
    "alfa_test = 0.6\n",
    "C1_test = 4\n",
    "C2_test = 2.5\n",
    "\n",
    "delta = b2_test - b1_test\n",
    "gamma = C2_test - C1_test\n",
    "\n",
    "#investigate B1\n",
    "stable, ll = investigate_stability_B1(alfa_test,b1_test,delta,C1_test,gamma)\n",
    "print('Is [B1] state stable? {}'.format(bool(stable)))\n",
    "\n",
    "#investigate B2\n",
    "stable, ll = investigate_stability_B2(alfa_test,b1_test,delta,C1_test,gamma)\n",
    "print('Is [B2] state stable? {}'.format(bool(stable)))\n",
    "\n",
    "#investigate A + B1\n",
    "stable, ll = investigate_stability_AB1(alfa_test,b1_test,delta,C1_test,gamma)\n",
    "print('Is [A&B1] state stable? {}'.format(bool(stable)))\n",
    "\n",
    "#investigate A + B2\n",
    "stable, ll = investigate_stability_AB2(alfa_test,b1_test,delta,C1_test,gamma)\n",
    "print('Is [A&B2] state stable? {}'.format(bool(stable)))"
   ]
  },
  {
   "cell_type": "markdown",
   "metadata": {},
   "source": [
    "# Two-patches simulations"
   ]
  },
  {
   "cell_type": "code",
   "execution_count": 19,
   "metadata": {
    "collapsed": true
   },
   "outputs": [],
   "source": [
    "# MODEL EQUATIONS (for numerical integration)\n",
    "# INPUTS:\n",
    "# y: array with initial conditions for S,B1,B2,AB1,AB2 in the first patch and in the second patch\n",
    "# t: array with times at which evaluating the system\n",
    "# alfa: infection rate of strain A\n",
    "# beta: infection rate of B1\n",
    "# delta: difference in infection rate between B2 and B1\n",
    "# C: cooperative factor B1\n",
    "# gamma: difference in cooperative factor between B2 and B1\n",
    "# epsi: coupling between patches\n",
    "# OUTPUT:\n",
    "# array containing the values of S,B1,B2,AB1,AB2 in the first and in the second patch respectively\n",
    "\n",
    "def SIS_2patches(y,t,alfa,beta,delta,C,gamma,epsi): \n",
    "    Sa,B1a,B2a,AB1a,AB2a,Sb,B1b,B2b,AB1b,AB2b = y\n",
    "    \n",
    "    Aa = 1-Sa-B1a-B2a-AB1a-AB2a\n",
    "    X1a = B1a + AB1a\n",
    "    X2a = B2a + AB2a\n",
    "    XAa = Aa + AB1a + AB2a\n",
    "    \n",
    "    Ab = 1-Sb-B1b-B2b-AB1b-AB2b\n",
    "    X1b = B1b + AB1b\n",
    "    X2b = B2b + AB2b\n",
    "    XAb = Ab + AB1b + AB2b\n",
    "    \n",
    "    # equations\n",
    "    # \n",
    "    f0 = -Sa*(alfa*((1-epsi)*XAa+epsi*XAb)+beta*((1-epsi)*X1a+epsi*X1b)+(beta+delta)*((1-epsi)*X2a+epsi*X2b)) + Aa + B1a + B2a  #S\n",
    "    f1 = AB1a-B1a-C*alfa*B1a*((1-epsi)*XAa+epsi*XAb)+beta*Sa*((1-epsi)*X1a+epsi*X1b) #B1\n",
    "    f2 = AB2a-B2a-(C+gamma)*alfa*B2a*((1-epsi)*XAa+epsi*XAb)+(beta+delta)*Sa*((1-epsi)*X2a+epsi*X2b) #B2\n",
    "    f3 = -2*AB1a+C*alfa*B1a*((1-epsi)*XAa+epsi*XAb)+C*beta*Aa*((1-epsi)*X1a+epsi*X1b) #AB1\n",
    "    f4 = -2*AB2a+(C+gamma)*alfa*B2a*((1-epsi)*XAa+epsi*XAb)+(C+gamma)*(beta+delta)*Aa*((1-epsi)*X2a+epsi*X2b) #AB2\n",
    "    \n",
    "    f5 = -Sb*(alfa*((1-epsi)*XAb+epsi*XAa)+beta*((1-epsi)*X1b+epsi*X1a)+(beta+delta)*((1-epsi)*X2b+epsi*X2a)) + Ab + B1b + B2b  #S\n",
    "    f6 = AB1b-B1b-C*alfa*B1b*((1-epsi)*XAb+epsi*XAa)+beta*Sb*((1-epsi)*X1b+epsi*X1a) #B1\n",
    "    f7 = AB2b-B2b-(C+gamma)*alfa*B2b*((1-epsi)*XAb+epsi*XAa)+(beta+delta)*Sb*((1-epsi)*X2b+epsi*X2a) #B2\n",
    "    f8 = -2*AB1b+C*alfa*B1b*((1-epsi)*XAb+epsi*XAa)+C*beta*Ab*((1-epsi)*X1b+epsi*X1a) #AB1\n",
    "    f9 = -2*AB2b+(C+gamma)*alfa*B2b*((1-epsi)*XAb+epsi*XAa)+(C+gamma)*(beta+delta)*Ab*((1-epsi)*X2b+epsi*X2a) #AB2\n",
    "    return [f0,f1,f2,f3,f4,f5,f6,f7,f8,f9]"
   ]
  },
  {
   "cell_type": "markdown",
   "metadata": {},
   "source": [
    "Integrate equations defined in ```SIS_2patches``` function and plot prevalence of each pathogen in both patches"
   ]
  },
  {
   "cell_type": "code",
   "execution_count": 21,
   "metadata": {},
   "outputs": [
    {
     "data": {
      "image/png": "[encoded data removed]",
      "text/plain": [
       "<Figure size 576x288 with 2 Axes>"
      ]
     },
     "metadata": {},
     "output_type": "display_data"
    }
   ],
   "source": [
    "# choose parameters\n",
    "b1 = 1.475 \n",
    "b2 = 1.5\n",
    "alfa = 0.6\n",
    "C1 = 4\n",
    "C2 = 2.9\n",
    "epsilon = 0.0002\n",
    "\n",
    "# integrate equations\n",
    "y0 = [0.98,0.01,0,0,0,0.99,0,0.01,0,0] #initial condition for S,B1,B2,AB1,AB2\n",
    "t = np.linspace(0,12000,40000) #list of times for ODE solver\n",
    "\n",
    "soln = spi.odeint(SIS_2patches, y0, t, args=(alfa, b1, b2-b1, C1, C2-C1, epsilon))\n",
    "X1ats = np.array(soln[:,1]) + np.array(soln[:,3])\n",
    "X2ats = np.array(soln[:,2]) + np.array(soln[:,4])\n",
    "XAats = 1-np.array(soln[:,0])-np.array(soln[:,1])-np.array(soln[:,2])\n",
    "\n",
    "X1bts = np.array(soln[:,6]) + np.array(soln[:,8])\n",
    "X2bts = np.array(soln[:,7]) + np.array(soln[:,9])\n",
    "XAbts = 1-np.array(soln[:,5])-np.array(soln[:,6])-np.array(soln[:,7])\n",
    "\n",
    "\n",
    "# plot prevalence in both patches\n",
    "fig, ax = plt.subplots(ncols=2,figsize=(8,4))\n",
    "cols = {'B1':'#b2182b', 'B2': '#2166ac', 'A': '#BDBDBD'}\n",
    "lw = 5\n",
    "\n",
    "ax[0].plot(t,X1ats,color=cols['B1'],label=r'$X_{B_1}$', lw=lw)\n",
    "ax[0].plot(t,X2ats,color=cols['B2'],label=r'$X_{B_2}$', lw=lw)\n",
    "ax[0].plot(t,XAats,color=cols['A'],label=r'$X_A$', lw=lw)\n",
    "\n",
    "ax[1].plot(t,X1bts,color=cols['B1'],label=r'$X_{B_1}$', lw=lw)\n",
    "ax[1].plot(t,X2bts,color=cols['B2'],label=r'$X_{B_2}$', lw=lw)\n",
    "ax[1].plot(t,XAbts,color=cols['A'],label=r'$X_A$', lw=lw)\n",
    "\n",
    "ax[0].set_xscale('log')\n",
    "ax[1].set_xscale('log')\n",
    "ax[0].set_ylim(-0.03, 0.6)\n",
    "ax[1].set_ylim(-0.03, 0.6)\n",
    "\n",
    "ax[0].set_xlabel('Time',fontsize=14)\n",
    "ax[1].set_xlabel('Time',fontsize=14)\n",
    "\n",
    "ax[0].set_ylabel('Prevalence',fontsize=14)\n",
    "ax[1].legend(framealpha = False, fontsize=14, handlelength=1.2)\n",
    "ax[0].set_title('Patch 1',fontsize=14)\n",
    "ax[1].set_title('Patch 2',fontsize=14)\n",
    "\n",
    "ax[0].tick_params(axis='both', which='major', labelsize=14)\n",
    "ax[1].tick_params(axis='both', which='major', labelsize=14)\n",
    "\n",
    "plt.tight_layout()"
   ]
  },
  {
   "cell_type": "code",
   "execution_count": null,
   "metadata": {
    "collapsed": true
   },
   "outputs": [],
   "source": []
  }
 ],
 "metadata": {
  "kernelspec": {
   "display_name": "Python 3",
   "language": "python",
   "name": "python3"
  },
  "language_info": {
   "codemirror_mode": {
    "name": "ipython",
    "version": 3
   },
   "file_extension": ".py",
   "mimetype": "text/x-python",
   "name": "python",
   "nbconvert_exporter": "python",
   "pygments_lexer": "ipython3",
   "version": "3.6.3"
  }
 },
 "nbformat": 4,
 "nbformat_minor": 2
}
